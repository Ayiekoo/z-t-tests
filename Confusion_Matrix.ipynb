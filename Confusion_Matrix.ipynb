{
  "nbformat": 4,
  "nbformat_minor": 0,
  "metadata": {
    "colab": {
      "provenance": [],
      "authorship_tag": "ABX9TyOeOdl4kMSfD2RZfwbskXPA",
      "include_colab_link": true
    },
    "kernelspec": {
      "name": "python3",
      "display_name": "Python 3"
    },
    "language_info": {
      "name": "python"
    }
  },
  "cells": [
    {
      "cell_type": "markdown",
      "metadata": {
        "id": "view-in-github",
        "colab_type": "text"
      },
      "source": [
        "<a href=\"https://colab.research.google.com/github/Ayiekoo/z-t-tests/blob/main/Confusion_Matrix.ipynb\" target=\"_parent\"><img src=\"https://colab.research.google.com/assets/colab-badge.svg\" alt=\"Open In Colab\"/></a>"
      ]
    },
    {
      "cell_type": "code",
      "execution_count": null,
      "metadata": {
        "id": "CXrpunJjGA8_"
      },
      "outputs": [],
      "source": [
        "import numpy as np"
      ]
    },
    {
      "cell_type": "markdown",
      "source": [
        "***Let's generate values for actual and predicted values***"
      ],
      "metadata": {
        "id": "Mak-q1T6Gtxl"
      }
    },
    {
      "cell_type": "code",
      "source": [
        "actual = np.random.binomial(1, 0.9, size = 1000)\n",
        "predicted = np.random.binomial(1, 0.9, size = 1000)"
      ],
      "metadata": {
        "id": "-sLOM3OeGQTU"
      },
      "execution_count": null,
      "outputs": []
    },
    {
      "cell_type": "markdown",
      "source": [
        "***Let's import metrics from the sklearn module to perform the confusion matrix***"
      ],
      "metadata": {
        "id": "mKfUPEYJG1G-"
      }
    },
    {
      "cell_type": "code",
      "source": [
        "from sklearn import metrics"
      ],
      "metadata": {
        "id": "DvW-CAAaHCl9"
      },
      "execution_count": null,
      "outputs": []
    },
    {
      "cell_type": "code",
      "source": [
        "confusion_matrix = metrics.confusion_matrix(actual, predicted)\n",
        "print(confusion_matrix)"
      ],
      "metadata": {
        "colab": {
          "base_uri": "https://localhost:8080/"
        },
        "id": "bRO3TYAJHLe_",
        "outputId": "69f0f636-9f75-4990-f3ad-95e85cc25b28"
      },
      "execution_count": null,
      "outputs": [
        {
          "output_type": "stream",
          "name": "stdout",
          "text": [
            "[[  5  93]\n",
            " [ 98 804]]\n"
          ]
        }
      ]
    },
    {
      "cell_type": "markdown",
      "source": [
        "***Now, let's convert the table into a confusion matrix display***"
      ],
      "metadata": {
        "id": "G9MFTLMvJdlx"
      }
    },
    {
      "cell_type": "code",
      "source": [
        "cm_display = metrics.ConfusionMatrixDisplay(confusion_matrix = confusion_matrix, display_labels = [0, 1])"
      ],
      "metadata": {
        "id": "kTIUyxFwIWO1"
      },
      "execution_count": null,
      "outputs": []
    },
    {
      "cell_type": "markdown",
      "source": [
        "***Visualize the display using matplotlib***"
      ],
      "metadata": {
        "id": "YYvCtV5yJlsc"
      }
    },
    {
      "cell_type": "code",
      "source": [
        "import matplotlib.pyplot as plt"
      ],
      "metadata": {
        "id": "hM-c4KTXJsUq"
      },
      "execution_count": null,
      "outputs": []
    },
    {
      "cell_type": "code",
      "source": [
        "cm_display.plot()\n",
        "plt.show()"
      ],
      "metadata": {
        "colab": {
          "base_uri": "https://localhost:8080/",
          "height": 473
        },
        "id": "H8ee0JKQJ8u9",
        "outputId": "7c1aae55-b008-4983-ec24-e1793c1638a6"
      },
      "execution_count": null,
      "outputs": [
        {
          "output_type": "display_data",
          "data": {
            "text/plain": [
              "<Figure size 640x480 with 2 Axes>"
            ],
            "image/png": "[encoded data removed]"
          },
          "metadata": {}
        }
      ]
    },
    {
      "cell_type": "markdown",
      "source": [
        "**Accuracy**"
      ],
      "metadata": {
        "id": "p5p5Lza8Nnz0"
      }
    },
    {
      "cell_type": "markdown",
      "source": [
        "***(true positives + true negatives) / total predictions***"
      ],
      "metadata": {
        "id": "txJUu8nfNys-"
      }
    },
    {
      "cell_type": "code",
      "source": [
        "Accuracy = metrics.accuracy_score(actual, predicted)\n",
        "print(Accuracy)"
      ],
      "metadata": {
        "colab": {
          "base_uri": "https://localhost:8080/"
        },
        "id": "3OwqKZUMNvpz",
        "outputId": "6b04e30a-407d-49bd-a2a6-483d4bb99b7c"
      },
      "execution_count": null,
      "outputs": [
        {
          "output_type": "stream",
          "name": "stdout",
          "text": [
            "0.809\n"
          ]
        }
      ]
    },
    {
      "cell_type": "markdown",
      "source": [
        "***Precision***\n",
        "\n",
        "True positive / (Tue positive + False positive)"
      ],
      "metadata": {
        "id": "yHVyAwfPOfYr"
      }
    },
    {
      "cell_type": "code",
      "source": [
        "Precision = metrics.precision_score(actual, predicted)\n",
        "print(Precision)"
      ],
      "metadata": {
        "colab": {
          "base_uri": "https://localhost:8080/"
        },
        "id": "31UdEz5DOsnw",
        "outputId": "54cdde25-fbbe-4da0-d3d3-69ac368e4064"
      },
      "execution_count": null,
      "outputs": [
        {
          "output_type": "stream",
          "name": "stdout",
          "text": [
            "0.8963210702341137\n"
          ]
        }
      ]
    },
    {
      "cell_type": "markdown",
      "source": [
        "***Sensitivity***\n",
        "\n",
        "True Positive / (True Positive + False Positive)\n",
        "```\n",
        "# This is formatted as code\n",
        "```\n",
        "\n"
      ],
      "metadata": {
        "id": "8T1mBhZPO-du"
      }
    },
    {
      "cell_type": "code",
      "source": [
        "Sensitivity_recall = metrics.recall_score(actual, predicted)\n",
        "print(Sensitivity_recall)"
      ],
      "metadata": {
        "colab": {
          "base_uri": "https://localhost:8080/"
        },
        "id": "B16yDSibQd9p",
        "outputId": "417e05fd-43b1-44f2-9e33-37e1f5945a60"
      },
      "execution_count": null,
      "outputs": [
        {
          "output_type": "stream",
          "name": "stdout",
          "text": [
            "0.8913525498891353\n"
          ]
        }
      ]
    },
    {
      "cell_type": "markdown",
      "source": [
        "***Specificity***\n",
        "\n",
        "True Negative / (True Negative + False Positive)"
      ],
      "metadata": {
        "id": "KFP0YzCMQ-_t"
      }
    },
    {
      "cell_type": "code",
      "source": [
        "Specificity = metrics.recall_score(actual, predicted, pos_label=0)\n",
        "print(Specificity)"
      ],
      "metadata": {
        "colab": {
          "base_uri": "https://localhost:8080/"
        },
        "id": "HScffWCkRLbS",
        "outputId": "dc36c474-3127-40d5-8e6f-6b2f48d147b1"
      },
      "execution_count": null,
      "outputs": [
        {
          "output_type": "stream",
          "name": "stdout",
          "text": [
            "0.05102040816326531\n"
          ]
        }
      ]
    },
    {
      "cell_type": "markdown",
      "source": [
        "***F-score***\n",
        "\n",
        "2 * ((Precision * Sensitivity) / (Precision + Sensitivity))"
      ],
      "metadata": {
        "id": "9bk85Lc9R-0m"
      }
    },
    {
      "cell_type": "code",
      "source": [
        "F1_score = metrics.f1_score(actual, predicted)\n",
        "print(F1_score)"
      ],
      "metadata": {
        "colab": {
          "base_uri": "https://localhost:8080/"
        },
        "id": "x-36KyBHSpz_",
        "outputId": "fdff9ff8-7f44-452e-b9fc-e4c682cf67a3"
      },
      "execution_count": 16,
      "outputs": [
        {
          "output_type": "stream",
          "name": "stdout",
          "text": [
            "0.8938299055030572\n"
          ]
        }
      ]
    }
  ]
}